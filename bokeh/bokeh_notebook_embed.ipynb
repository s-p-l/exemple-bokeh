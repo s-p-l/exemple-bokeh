{
 "cells": [
  {
   "cell_type": "markdown",
   "metadata": {},
   "source": [
    "# Example Bokeh Application Embedded in Jupyter Notebook\n",
    "\n",
    "Hello, world / Iris data set example to illustrate embedding of Bokeh applications within a Jupyter notebook.\n",
    "\n",
    "Note that this example will only run with the latest version of [bokeh (version 0.12.5)](http://bokeh.pydata.org/en/latest/#)."
   ]
  },
  {
   "cell_type": "code",
   "execution_count": 1,
   "metadata": {
    "collapsed": true
   },
   "outputs": [],
   "source": [
    "import pandas as pd\n",
    "from bokeh.layouts import row, widgetbox\n",
    "from bokeh.models import Select\n",
    "from bokeh.charts import Histogram\n",
    "from bokeh.io import show\n",
    "from bokeh.application.handlers import FunctionHandler\n",
    "from bokeh.application import Application"
   ]
  },
  {
   "cell_type": "markdown",
   "metadata": {},
   "source": [
    "## Load the Iris Data Set"
   ]
  },
  {
   "cell_type": "code",
   "execution_count": 2,
   "metadata": {},
   "outputs": [
    {
     "data": {
      "text/html": [
       "<div>\n",
       "<table border=\"1\" class=\"dataframe\">\n",
       "  <thead>\n",
       "    <tr style=\"text-align: right;\">\n",
       "      <th></th>\n",
       "      <th>Sepal Length</th>\n",
       "      <th>Sepal Width</th>\n",
       "      <th>Petal Length</th>\n",
       "      <th>Petal Width</th>\n",
       "      <th>Species</th>\n",
       "    </tr>\n",
       "  </thead>\n",
       "  <tbody>\n",
       "    <tr>\n",
       "      <th>0</th>\n",
       "      <td>5.1</td>\n",
       "      <td>3.5</td>\n",
       "      <td>1.4</td>\n",
       "      <td>0.2</td>\n",
       "      <td>Iris-setosa</td>\n",
       "    </tr>\n",
       "    <tr>\n",
       "      <th>1</th>\n",
       "      <td>4.9</td>\n",
       "      <td>3.0</td>\n",
       "      <td>1.4</td>\n",
       "      <td>0.2</td>\n",
       "      <td>Iris-setosa</td>\n",
       "    </tr>\n",
       "    <tr>\n",
       "      <th>2</th>\n",
       "      <td>4.7</td>\n",
       "      <td>3.2</td>\n",
       "      <td>1.3</td>\n",
       "      <td>0.2</td>\n",
       "      <td>Iris-setosa</td>\n",
       "    </tr>\n",
       "    <tr>\n",
       "      <th>3</th>\n",
       "      <td>4.6</td>\n",
       "      <td>3.1</td>\n",
       "      <td>1.5</td>\n",
       "      <td>0.2</td>\n",
       "      <td>Iris-setosa</td>\n",
       "    </tr>\n",
       "    <tr>\n",
       "      <th>4</th>\n",
       "      <td>5.0</td>\n",
       "      <td>3.6</td>\n",
       "      <td>1.4</td>\n",
       "      <td>0.2</td>\n",
       "      <td>Iris-setosa</td>\n",
       "    </tr>\n",
       "  </tbody>\n",
       "</table>\n",
       "</div>"
      ],
      "text/plain": [
       "   Sepal Length  Sepal Width  Petal Length  Petal Width      Species\n",
       "0           5.1          3.5           1.4          0.2  Iris-setosa\n",
       "1           4.9          3.0           1.4          0.2  Iris-setosa\n",
       "2           4.7          3.2           1.3          0.2  Iris-setosa\n",
       "3           4.6          3.1           1.5          0.2  Iris-setosa\n",
       "4           5.0          3.6           1.4          0.2  Iris-setosa"
      ]
     },
     "execution_count": 2,
     "metadata": {},
     "output_type": "execute_result"
    }
   ],
   "source": [
    "iris_df = pd.read_csv(\"data/iris.data\", \n",
    "    names=[\"Sepal Length\", \"Sepal Width\", \"Petal Length\", \"Petal Width\", \"Species\"])\n",
    "feature_names = iris_df.columns[0:-1].values.tolist()\n",
    "iris_df.head()"
   ]
  },
  {
   "cell_type": "markdown",
   "metadata": {},
   "source": [
    "## Create Embedded Application"
   ]
  },
  {
   "cell_type": "code",
   "execution_count": 3,
   "metadata": {
    "collapsed": true
   },
   "outputs": [],
   "source": [
    "# Create the Document Application\n",
    "def modify_doc(doc):\n",
    "    \n",
    "    # Create the main plot\n",
    "    def create_figure():\n",
    "        current_feature_name = feature_name.value\n",
    "        p = Histogram(iris_df, current_feature_name, title=current_feature_name, color='Species', \n",
    "            bins=20, legend='top_right', width=600, height=400)\n",
    "\n",
    "        # Set the x axis label\n",
    "        p.xaxis.axis_label = current_feature_name\n",
    "\n",
    "        # Set the y axis label\n",
    "        p.yaxis.axis_label = 'Count'\n",
    "        return p\n",
    "\n",
    "    # Update the plot\n",
    "    def update(attr, old, new):\n",
    "        layout.children[1] = create_figure()\n",
    "    \n",
    "    # Controls\n",
    "    feature_name = Select(title=\"Iris Feature:\", options=feature_names, value=feature_names[0])\n",
    "    feature_name.on_change('value', update)\n",
    "    controls = widgetbox([feature_name], width=200)\n",
    "    p = create_figure()\n",
    "    layout = row(controls, p)\n",
    "    doc.add_root(layout)\n",
    "\n",
    "# Set up the Application \n",
    "handler = FunctionHandler(modify_doc)\n",
    "app = Application(handler)"
   ]
  },
  {
   "cell_type": "code",
   "execution_count": 4,
   "metadata": {
    "collapsed": true
   },
   "outputs": [],
   "source": [
    "# Create the Document\n",
    "# Not strictly necessary, but helps w/ debugging\n",
    "doc = app.create_document()"
   ]
  },
  {
   "cell_type": "code",
   "execution_count": 5,
   "metadata": {},
   "outputs": [
    {
     "data": {
      "text/html": [
       "<script type='text/javascript'>\n",
       "\n",
       "var target = document.getElementById('notebook-container');\n",
       "\n",
       "var observer = new MutationObserver(function(mutations) {\n",
       "\n",
       "   for (var i = 0; i < mutations.length; i++) {\n",
       "      for (var j=0; j < mutations[i].removedNodes.length; j++) {\n",
       "        for (var k=0; k < mutations[i].removedNodes[j].childNodes.length; k++)\n",
       "          var bokeh_selector = $(mutations[i].removedNodes[j].childNodes[k]).find(\".bokeh_class\");\n",
       "          if (bokeh_selector) {\n",
       "            if (bokeh_selector.length > 0) {\n",
       "               var destroyed_id = bokeh_selector[0].id;\n",
       "                \n",
       "var cmd = \"from bokeh import io; io._destroy_server('<%= destroyed_id %>')\";\n",
       "var command = _.template(cmd)({destroyed_id:destroyed_id});\n",
       "Jupyter.notebook.kernel.execute(command);\n",
       "\n",
       "            }\n",
       "          }\n",
       "      }\n",
       "   }\n",
       "});\n",
       "observer.observe(target, { childList: true, subtree:true });</script>"
      ]
     },
     "metadata": {},
     "output_type": "display_data"
    },
    {
     "data": {
      "text/html": [
       "<div class='bokeh_class' id='216a298b3919492a9f64114f3179d28c'>\n",
       "<script\n",
       "    src=\"http://127.0.0.1:63669/autoload.js?bokeh-autoload-element=a607d36c-1e2b-4296-a823-eee68722279e&bokeh-app-path=/&bokeh-absolute-url=http://127.0.0.1:63669\"\n",
       "    id=\"a607d36c-1e2b-4296-a823-eee68722279e\"\n",
       "    data-bokeh-model-id=\"\"\n",
       "    data-bokeh-doc-id=\"\"\n",
       "></script></div>"
      ],
      "text/plain": [
       "<IPython.core.display.HTML object>"
      ]
     },
     "metadata": {},
     "output_type": "display_data"
    }
   ],
   "source": [
    "# Show the application\n",
    "# Make sure the URL matches your Jupyter instance\n",
    "show(app, notebook_url=\"localhost:8888\")"
   ]
  },
  {
   "cell_type": "code",
   "execution_count": null,
   "metadata": {
    "collapsed": true
   },
   "outputs": [],
   "source": []
  }
 ],
 "metadata": {
  "kernelspec": {
   "display_name": "Python 2",
   "language": "python",
   "name": "python2"
  },
  "language_info": {
   "codemirror_mode": {
    "name": "ipython",
    "version": 2
   },
   "file_extension": ".py",
   "mimetype": "text/x-python",
   "name": "python",
   "nbconvert_exporter": "python",
   "pygments_lexer": "ipython2",
   "version": "2.7.11"
  }
 },
 "nbformat": 4,
 "nbformat_minor": 2
}
